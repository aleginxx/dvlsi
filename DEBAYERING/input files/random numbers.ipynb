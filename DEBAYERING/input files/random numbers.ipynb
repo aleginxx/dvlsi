{
 "cells": [
  {
   "cell_type": "code",
   "execution_count": 1,
   "id": "a5fb2bd0",
   "metadata": {},
   "outputs": [],
   "source": [
    "import random\n",
    "\n",
    "# Generate 1048576 random numbers and write them to a file\n",
    "with open(\"bayer1024x1024.txt\", \"w\") as file:\n",
    "    for _ in range(1048576):\n",
    "        random_number = random.randint(0, 255)\n",
    "        file.write(str(random_number) + \"\\n\")\n"
   ]
  },
  {
   "cell_type": "code",
   "execution_count": null,
   "id": "6e082c93",
   "metadata": {},
   "outputs": [],
   "source": []
  }
 ],
 "metadata": {
  "kernelspec": {
   "display_name": "Python 3 (ipykernel)",
   "language": "python",
   "name": "python3"
  },
  "language_info": {
   "codemirror_mode": {
    "name": "ipython",
    "version": 3
   },
   "file_extension": ".py",
   "mimetype": "text/x-python",
   "name": "python",
   "nbconvert_exporter": "python",
   "pygments_lexer": "ipython3",
   "version": "3.11.2"
  }
 },
 "nbformat": 4,
 "nbformat_minor": 5
}
